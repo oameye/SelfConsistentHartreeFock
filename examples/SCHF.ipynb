{
 "cells": [
  {
   "cell_type": "markdown",
   "id": "38841e73",
   "metadata": {},
   "source": [
    "## System\n",
    "$$\n",
    "H=-\\Delta a^\\dagger a + k a^\\dagger a^\\dagger a a + F (a^\\dagger + a)\n",
    "$$"
   ]
  },
  {
   "cell_type": "markdown",
   "id": "84020127",
   "metadata": {},
   "source": [
    "## Fluctuations\n",
    "We assume the driven modes $a$ to have a large coherent population $\\alpha$ with small quantum fluctuations $d$ on top, so we write $a = \\alpha + d$.\n",
    "$$\n",
    "\\begin{align}\n",
    "H_{\\rm lin}&=(-\\alpha  \\Delta +2 K |\\alpha|^2 \\alpha+F)  d^{\\dagger }\n",
    "+(- \\alpha^* \\Delta + 2 K |\\alpha|^2 \\alpha ^* +F)d\\\\\n",
    "H_{\\rm higher order}&=(-\\Delta +4 K  |\\alpha|^2 ) d^{\\dagger } d\n",
    "+\\alpha ^2 K d^{\\dagger } d^{\\dagger }\n",
    "+K \\left(\\alpha ^*\\right)^2 d d\n",
    "+2 K \\alpha ^* d^{\\dagger } d d\n",
    "+2 \\alpha  K d^{\\dagger } d^{\\dagger } d\n",
    "+K d^{\\dagger } d^{\\dagger } d d\n",
    "\\end{align}\n",
    "$$"
   ]
  },
  {
   "cell_type": "markdown",
   "id": "d2c9a45e",
   "metadata": {},
   "source": [
    "## Hartree-Fock approximation \n",
    "\n",
    "We apply the Hartree-Fock approximation to the higher order terms, which consists in replacing products of operators by products of operators and their expectation values:\n",
    "$$\n",
    "\\begin{align}\n",
    "d^{\\dagger } d^{\\dagger } d d\n",
    "&\\approx 4n d^{\\dagger } d + m^* d d + m d^{\\dagger } d^{\\dagger }\\\\\n",
    "d^\\dagger d d\n",
    "&\\approx 2n d + m d^\\dagger\\\\\n",
    "\\end{align}\n",
    "$$\n",
    "such that, up to additive constants (which only shift the zero of energy), the higher order terms become quadratic:\n",
    "$$\n",
    "\\begin{align}\n",
    "H_{\\rm HF}&=(-\\Delta +4 K  |\\alpha|^2 +4 K n) d^{\\dagger } d\n",
    "+K (\\alpha ^2 +  m) d^{\\dagger } d^{\\dagger }\n",
    "+K( \\left(\\alpha ^*\\right)^2 +m^*) d d\n",
    "\\end{align}\n",
    "$$\n",
    "Here, we defined $\\langle d^{\\dagger } d\\rangle=n \\in \\mathbb{R}$ and $\\langle d d\\rangle = m  \\in \\mathbb{C}$. The linear terms instead becomes\n",
    "$$\n",
    "\\begin{align}\n",
    "H_{\\rm lin}&=\n",
    "(-\\alpha  \\Delta +2 K |\\alpha|^2 \\alpha  +2 K m \\alpha^*+4 K n \\alpha +F)  d^{\\dagger }\n",
    "+(-\\Delta  \\alpha ^*+2 K |\\alpha|^2  \\alpha ^*+2 \\alpha K m^*+4 n K  \\alpha ^*+F)d\n",
    "\\end{align}\n",
    "$$\n",
    "\n",
    "We can now choose $\\alpha$ such that the linear terms vanish, which gives us the self-consistent equation for $\\alpha$:\n",
    "$$\n",
    "\\begin{align}\n",
    "(- \\Delta +2 K |\\alpha|^2+4 K n)\\alpha +2 K m \\alpha^*&= -F \\\\\n",
    "A\\alpha +B \\alpha^*&= -F \n",
    "\\end{align}\n",
    "$$\n",
    "We will split this equation into its real and imaginary parts to solve it numerically. This way we can easily distinguish between physical and unphysical solutions. We get:\n",
    "$$\n",
    "\\begin{pmatrix}\n",
    "A + \\mathrm{Re}(B) & \\mathrm{Im}(B) \\\\\n",
    "\\mathrm{Im}(B)  & A - \\mathrm{Re}(B)\n",
    "\\end{pmatrix}\n",
    "\\begin{pmatrix}u\\\\v\\end{pmatrix}\n",
    "= -\\begin{pmatrix}F\\\\0\\end{pmatrix}\n",
    "$$\n",
    "Inverting gives\n",
    "$$\n",
    "\\begin{pmatrix}u\\\\v\\end{pmatrix}\n",
    "= \n",
    "\\frac{F}{A^2 - |B|^2}\n",
    "\\begin{pmatrix}\n",
    "\\mathrm{Re}(B)-A \\\\\n",
    "\\mathrm{Im}(B)\n",
    "\\end{pmatrix}\n",
    "$$"
   ]
  },
  {
   "cell_type": "markdown",
   "id": "2dba49dd",
   "metadata": {},
   "source": [
    "## Bogoliubov transformation"
   ]
  },
  {
   "cell_type": "markdown",
   "id": "631581a3",
   "metadata": {},
   "source": [
    "$H_HF$ can be diagonalized using a Bogoliubov transformation. Defining $ \\Omega = \\Delta -4 K  |\\alpha|^2 -4 K n$ and $G = K (\\alpha ^2 +  m)$ giving the Hamiltonian\n",
    "$$\n",
    "H_{\\rm HF} = - \\Omega d^{\\dagger } d + G d^{\\dagger } d^{\\dagger } + G^* d d\n",
    "$$\n",
    "which can be diagonalized with $b = \\sqrt{\\frac{1}{2}(\\frac{\\Omega}{\\sqrt{\\Omega^2-|G|^2}}-1)} b^\\dagger + \\sqrt{\\frac{1}{2}(1+\\frac{\\Omega}{\\sqrt{\\Omega^2-|G|^2}})} b$ to give the diagional Hamiltonian\n",
    "$$\n",
    "H_{\\rm HF} = -\\sqrt{\\Omega^2-|G|^2} b^\\dagger b\n",
    "$$\n",
    "\n",
    "If we assume we are in quasi-particle vacuum, i.e., $\\langle b_i^\\dagger b_i\\rangle =\\langle b_i^\\dagger b_i^\\dagger \\rangle= 0$, however $\\langle b_i b_i^\\dagger\\rangle = 1$. Therefore, we have\n",
    "$$\n",
    "  \\langle d_i^\\dagger d_i \\rangle= n = |v|^2=1/2 (\\Omega/\\tilde{\\omega}-1)\\\\\n",
    "   \\langle d_i d_i \\rangle =m = u v = G/(2 \\tilde{\\omega})\\\n",
    "$$"
   ]
  },
  {
   "cell_type": "markdown",
   "id": "339ba763",
   "metadata": {},
   "source": [
    "## Self-consistent solution\n",
    "\n",
    "Note that $n$ and $m$ depend on $\\alpha$ as well, since they are expectation values of operators evolving under a Hamiltonian $H_{\\rm HF}$ that depends on $\\alpha$. The trick is to solve the **self-consistent problem** iteratively: we start with by solving meanfield solution $\\alpha$ where $n=0$ and $m=0$. We use this solution  $H_{\\rm HF}$, find its vacuum state, compute $n$ and $m$, plug them back into the self-consistent equation to find a new $\\alpha$, and repeat until convergence.\n",
    "Mathematically, we can write:\n",
    "$$\n",
    "\\begin{pmatrix}u_{k+1}\\\\ v_{k+1}\\end{pmatrix}\n",
    "= \n",
    "\\frac{F}{A_k^2 - |B_k|^2}\n",
    "\\begin{pmatrix}\n",
    "\\mathrm{Re}(B_k)-A_k \\\\\n",
    "\\mathrm{Im}(B_k)\n",
    "\\end{pmatrix}\n",
    "$$"
   ]
  },
  {
   "cell_type": "markdown",
   "id": "1c6465f9",
   "metadata": {},
   "source": [
    "As a starting point we can use the meanfield solution with $n=0$ and $m=0$."
   ]
  },
  {
   "cell_type": "code",
   "execution_count": null,
   "id": "0bc4ee64",
   "metadata": {},
   "outputs": [
    {
     "data": {
      "text/plain": [
       "Parameters"
      ]
     },
     "metadata": {},
     "output_type": "display_data"
    }
   ],
   "source": []
  },
  {
   "cell_type": "code",
   "execution_count": null,
   "id": "7f4e27b1",
   "metadata": {},
   "outputs": [
    {
     "data": {
      "text/plain": [
       "meanfield (generic function with 1 method)"
      ]
     },
     "metadata": {},
     "output_type": "display_data"
    }
   ],
   "source": []
  },
  {
   "cell_type": "code",
   "execution_count": 19,
   "id": "2bbdead8",
   "metadata": {},
   "outputs": [
    {
     "ename": "UndefVarError",
     "evalue": "UndefVarError: `n′` not defined in `Main`\nSuggestion: check for spelling errors or missing imports.",
     "output_type": "error",
     "traceback": [
      "UndefVarError: `n′` not defined in `Main`\n",
      "Suggestion: check for spelling errors or missing imports.\n",
      "\n",
      "Stacktrace:\n",
      " [1] meanfield(sol::Solution, p::Parameters)\n",
      "   @ Main ~/Documents/SelfConsistentHartreeFock/jl_notebook_cell_df34fa98e69747e1a8f8a730347b8e2f_X22sZmlsZQ==.jl:18\n",
      " [2] top-level scope\n",
      "   @ ~/Documents/SelfConsistentHartreeFock/jl_notebook_cell_df34fa98e69747e1a8f8a730347b8e2f_X24sZmlsZQ==.jl:4"
     ]
    }
   ],
   "source": [
    "p = Parameters(Δ=0.0, K=0.1, F=0.5)\n",
    "sol = Solution(α=1.0 + 1.0im, n=0.0, m=0.0 + 0.0im)\n",
    "for i in 1:10\n",
    "    sol = meanfield(sol, p)\n",
    "end\n",
    "sol"
   ]
  },
  {
   "cell_type": "code",
   "execution_count": null,
   "id": "74b3be96",
   "metadata": {},
   "outputs": [
    {
     "data": {
      "text/plain": [
       "solve_schf (generic function with 1 method)"
      ]
     },
     "metadata": {},
     "output_type": "display_data"
    }
   ],
   "source": []
  },
  {
   "cell_type": "code",
   "execution_count": 17,
   "id": "8f37ae2e",
   "metadata": {},
   "outputs": [
    {
     "name": "stdout",
     "output_type": "stream",
     "text": [
      "\n",
      "=== Testing with α₀ = 1+1i ===\n",
      "Iteration 1: |Δα| = 32.02583898361932, |Δn| = 1.00709255283711, |Δm| = 0.08451542547285165\n",
      "Iteration 2: |Δα| = 30.86315612516835, |Δn| = 4.197428289387517e-7, |Δm| = 0.0980857581202696\n"
     ]
    },
    {
     "ename": "DomainError",
     "evalue": "DomainError with -7.142175799434961e-5:\nsqrt was called with a negative real argument but will only return a complex result if called with a complex argument. Try sqrt(Complex(x)).",
     "output_type": "error",
     "traceback": [
      "DomainError with -7.142175799434961e-5:\n",
      "sqrt was called with a negative real argument but will only return a complex result if called with a complex argument. Try sqrt(Complex(x)).\n",
      "\n",
      "Stacktrace:\n",
      " [1] throw_complex_domainerror(f::Symbol, x::Float64)\n",
      "   @ Base.Math ./math.jl:33\n",
      " [2] sqrt\n",
      "   @ ./math.jl:608 [inlined]\n",
      " [3] vacuum_moments(sol::Solution, p::Parameters)\n",
      "   @ Main ~/Documents/SelfConsistentHartreeFock/jl_notebook_cell_df34fa98e69747e1a8f8a730347b8e2f_X22sZmlsZQ==.jl:7\n",
      " [4] meanfield(sol::Solution, p::Parameters)\n",
      "   @ Main ~/Documents/SelfConsistentHartreeFock/jl_notebook_cell_df34fa98e69747e1a8f8a730347b8e2f_X22sZmlsZQ==.jl:17\n",
      " [5] solve_schf(p::Parameters; initial_α::ComplexF64, max_iter::Int64, tol::Float64, verbose::Bool)\n",
      "   @ Main ~/Documents/SelfConsistentHartreeFock/jl_notebook_cell_df34fa98e69747e1a8f8a730347b8e2f_X30sZmlsZQ==.jl:16\n",
      " [6] top-level scope\n",
      "   @ ~/Documents/SelfConsistentHartreeFock/jl_notebook_cell_df34fa98e69747e1a8f8a730347b8e2f_X31sZmlsZQ==.jl:5"
     ]
    }
   ],
   "source": [
    "# Test the self-consistent solver\n",
    "p = Parameters(Δ=0.0, K=0.1, F=0.5)\n",
    "\n",
    "println(\"\\n=== Testing with α₀ = 1+1i ===\")\n",
    "sol2, hist2 = solve_schf(p, initial_α=1.0+1.0im, verbose=true)\n",
    "println(\"Final solution: α = $(sol2.α), n = $(sol2.n), m = $(sol2.m)\")"
   ]
  },
  {
   "cell_type": "code",
   "execution_count": null,
   "id": "4cb5dbe3",
   "metadata": {},
   "outputs": [],
   "source": []
  }
 ],
 "metadata": {
  "kernelspec": {
   "display_name": "Julia 1.11.7",
   "language": "julia",
   "name": "julia-1.11"
  },
  "language_info": {
   "file_extension": ".jl",
   "mimetype": "application/julia",
   "name": "julia",
   "version": "1.11.7"
  }
 },
 "nbformat": 4,
 "nbformat_minor": 5
}
