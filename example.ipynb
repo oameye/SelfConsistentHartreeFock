{
 "cells": [
  {
   "cell_type": "code",
   "execution_count": 25,
   "id": "d00af297",
   "metadata": {},
   "outputs": [],
   "source": [
    "import QuantumToolbox as QT\n",
    "using Plots"
   ]
  },
  {
   "cell_type": "code",
   "execution_count": null,
   "id": "584471c6",
   "metadata": {},
   "outputs": [
    {
     "data": {
      "text/plain": [
       "0.001"
      ]
     },
     "metadata": {},
     "output_type": "display_data"
    }
   ],
   "source": [
    "Fsweep = range(1e-5, 0.01, 51)\n",
    "Δsweep_sparse = range(-0.01, 0.03, 51)\n",
    "Δsweep = range(-0.01, 0.03, 1001)\n",
    "Kval = 0.001"
   ]
  },
  {
   "cell_type": "code",
   "execution_count": 27,
   "id": "f8c1acd5",
   "metadata": {},
   "outputs": [
    {
     "data": {
      "text/plain": [
       "#35 (generic function with 1 method)"
      ]
     },
     "metadata": {},
     "output_type": "display_data"
    }
   ],
   "source": [
    "function ρ_ss(Δ, F, K, γ; kwargs...)\n",
    "    N = 50 # cutoff of the Hilbert space dimension\n",
    "    a = QT.destroy(N) # annihilation operator\n",
    "    nth=0.01\n",
    "\n",
    "    H = - Δ * a' * a + K * a' * a' * a * a - F * (a'  +  a) \n",
    "    c_ops = [sqrt(γ)*a] \n",
    "\n",
    "    solver = QT.SteadyStateLinearSolver()\n",
    "    ρ_ss = QT.steadystate(H, c_ops; solver,kwargs...) # Hamiltonian and collapse operators\n",
    "    # real(QT.expect(a' * a, ρ_ss))\n",
    "end\n",
    "function ρ_ss(tt::Tuple)\n",
    "    Δ, F = tt\n",
    "    ρ_ss(Δ, F, Kval, 0.005)\n",
    "end\n",
    "\n",
    "N = 50 # cutoff of the Hilbert space dimension\n",
    "a = QT.destroy(N) # a\n",
    "nm = ρ -> real(QT.expect(a' * a, ρ))\n",
    "g2m = ρ -> real(QT.expect(a' * a' * a * a, ρ)/QT.expect(a' * a , ρ)^2)"
   ]
  },
  {
   "cell_type": "code",
   "execution_count": 28,
   "id": "38b9ff9d",
   "metadata": {},
   "outputs": [],
   "source": [
    "range2d = collect(Iterators.product(Δsweep_sparse, Fsweep))\n",
    "Trange2d = [range2d[j, i] for j in 1:size(range2d, 2), i in 1:size(range2d, 1)]\n",
    "\n",
    "ρm = map(ρ_ss, Trange2d);"
   ]
  },
  {
   "cell_type": "code",
   "execution_count": 29,
   "id": "d6552496",
   "metadata": {},
   "outputs": [
    {
     "name": "stdout",
     "output_type": "stream",
     "text": []
    }
   ],
   "source": [
    "heatmap(Δsweep, Fsweep, nm.(ρm')) |> display"
   ]
  },
  {
   "cell_type": "code",
   "execution_count": 31,
   "id": "ba2de626",
   "metadata": {},
   "outputs": [
    {
     "name": "stdout",
     "output_type": "stream",
     "text": []
    }
   ],
   "source": [
    "ρv = map(_Δ -> ρ_ss(_Δ, Kval, Fval, 0.0005), Δrange)\n",
    "n_q = nm.(ρv)\n",
    "plot(Δsweep, n_q)"
   ]
  },
  {
   "cell_type": "code",
   "execution_count": null,
   "id": "42b6c4be",
   "metadata": {},
   "outputs": [],
   "source": []
  }
 ],
 "metadata": {
  "kernelspec": {
   "display_name": "Julia 1.11.7",
   "language": "julia",
   "name": "julia-1.11"
  },
  "language_info": {
   "file_extension": ".jl",
   "mimetype": "application/julia",
   "name": "julia",
   "version": "1.11.7"
  }
 },
 "nbformat": 4,
 "nbformat_minor": 5
}
